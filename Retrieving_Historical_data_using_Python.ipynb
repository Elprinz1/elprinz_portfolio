{
  "nbformat": 4,
  "nbformat_minor": 0,
  "metadata": {
    "colab": {
      "name": "Retrieving Historical data using Python.ipynb",
      "provenance": [],
      "toc_visible": true,
      "authorship_tag": "ABX9TyP5RaKsauiJ1nbyoV6ItjbV",
      "include_colab_link": true
    },
    "kernelspec": {
      "name": "python3",
      "display_name": "Python 3"
    },
    "language_info": {
      "name": "python"
    }
  },
  "cells": [
    {
      "cell_type": "markdown",
      "metadata": {
        "id": "view-in-github",
        "colab_type": "text"
      },
      "source": [
        "<a href=\"https://colab.research.google.com/github/Elprinz1/elprinz_portfolio/blob/master/Retrieving_Historical_data_using_Python.ipynb\" target=\"_parent\"><img src=\"https://colab.research.google.com/assets/colab-badge.svg\" alt=\"Open In Colab\"/></a>"
      ]
    },
    {
      "cell_type": "markdown",
      "metadata": {
        "id": "NUQ3x1LdoND3"
      },
      "source": [
        ""
      ]
    },
    {
      "cell_type": "code",
      "metadata": {
        "id": "R_H1RQQNmz4A"
      },
      "source": [
        "#Install all dependencies and packages for the script using pip\n"
      ],
      "execution_count": 9,
      "outputs": []
    },
    {
      "cell_type": "code",
      "metadata": {
        "id": "RcdFWDk9n9iP"
      },
      "source": [
        "pip install ccxt"
      ],
      "execution_count": null,
      "outputs": []
    },
    {
      "cell_type": "code",
      "metadata": {
        "id": "vs4xZJZqoXK0"
      },
      "source": [
        "#Import all required packages/libraries\n",
        "import os, time, datetime\n",
        "import pandas as pd\n",
        "import ccxt\n"
      ],
      "execution_count": 4,
      "outputs": []
    },
    {
      "cell_type": "code",
      "metadata": {
        "id": "QlOEPAmLpmrD"
      },
      "source": [
        "#Let us briefly explore the features of ccxt library\n",
        "ccxt.exchanges\n"
      ],
      "execution_count": null,
      "outputs": []
    },
    {
      "cell_type": "code",
      "metadata": {
        "colab": {
          "base_uri": "https://localhost:8080/"
        },
        "id": "2v3vXu-bq0vx",
        "outputId": "f15d822c-7021-4ba6-9beb-e3b5e8305781"
      },
      "source": [
        "#Get the total No of exchanges supported by ccxt\n",
        "len(ccxt.exchanges)"
      ],
      "execution_count": 16,
      "outputs": [
        {
          "output_type": "execute_result",
          "data": {
            "text/plain": [
              "114"
            ]
          },
          "metadata": {
            "tags": []
          },
          "execution_count": 16
        }
      ]
    },
    {
      "cell_type": "code",
      "metadata": {
        "colab": {
          "base_uri": "https://localhost:8080/"
        },
        "id": "rIp1IK-jrGsL",
        "outputId": "2405fde9-6b80-4773-9797-46d03f89cf05"
      },
      "source": [
        "#Explore a few exchanges. Initialise each exchange\n",
        "binance = ccxt.binance()\n",
        "coinbase = ccxt.coinbase()\n",
        "kucoin = ccxt.kucoin()\n",
        "\n",
        "#Load market data for each exchange\n",
        "binance_markets = binance.load_markets()\n",
        "binance_markets\n",
        "\n",
        "#Similarly we can retrieve market data for other exchanges\n",
        "kucoin_market = kucoin.load_markets()\n",
        "coinbase_market = coinbase.load_markets()\n",
        "len(coinbase_market)\n",
        "len(kucoin_market)\n",
        "len(binance_markets)"
      ],
      "execution_count": 6,
      "outputs": [
        {
          "output_type": "execute_result",
          "data": {
            "text/plain": [
              "1533"
            ]
          },
          "metadata": {
            "tags": []
          },
          "execution_count": 6
        }
      ]
    },
    {
      "cell_type": "code",
      "metadata": {
        "id": "F4IF-4nauZ8O"
      },
      "source": [
        "#Get list of trading pairs as per exchange\n",
        "trading_pairs_binance = binance.symbols\n",
        "trading_pairs_binance\n",
        "\n",
        "# trading_pairs_kucoin = kucoin.symbols\n",
        "# trading_pairs_kucoin"
      ],
      "execution_count": null,
      "outputs": []
    },
    {
      "cell_type": "code",
      "metadata": {
        "id": "vOSdP-0QvU8y"
      },
      "source": [
        "#Retrieve historical data (ohlcv) for individual trading pair\n",
        "symbol = 'ETH/USDT'\n",
        "candles = binance.fetch_ohlcv(symbol, limit=100, timeframe='1d')\n",
        "candles\n"
      ],
      "execution_count": null,
      "outputs": []
    },
    {
      "cell_type": "code",
      "metadata": {
        "colab": {
          "base_uri": "https://localhost:8080/",
          "height": 419
        },
        "id": "focm5e1BwydD",
        "outputId": "ad9669ff-34ea-44ac-faf5-d13ad08f0229"
      },
      "source": [
        "#Store data in a pandas dataframe so that we can prepare it for saving\n",
        "df = pd.DataFrame(candles)\n",
        "df.columns = ['Date', 'Open', 'High', 'Low', 'Close', 'Volume']\n",
        "df"
      ],
      "execution_count": 9,
      "outputs": [
        {
          "output_type": "execute_result",
          "data": {
            "text/html": [
              "<div>\n",
              "<style scoped>\n",
              "    .dataframe tbody tr th:only-of-type {\n",
              "        vertical-align: middle;\n",
              "    }\n",
              "\n",
              "    .dataframe tbody tr th {\n",
              "        vertical-align: top;\n",
              "    }\n",
              "\n",
              "    .dataframe thead th {\n",
              "        text-align: right;\n",
              "    }\n",
              "</style>\n",
              "<table border=\"1\" class=\"dataframe\">\n",
              "  <thead>\n",
              "    <tr style=\"text-align: right;\">\n",
              "      <th></th>\n",
              "      <th>Date</th>\n",
              "      <th>Open</th>\n",
              "      <th>High</th>\n",
              "      <th>Low</th>\n",
              "      <th>Close</th>\n",
              "      <th>Volume</th>\n",
              "    </tr>\n",
              "  </thead>\n",
              "  <tbody>\n",
              "    <tr>\n",
              "      <th>0</th>\n",
              "      <td>1617148800000</td>\n",
              "      <td>1840.41</td>\n",
              "      <td>1947.29</td>\n",
              "      <td>1768.15</td>\n",
              "      <td>1919.37</td>\n",
              "      <td>746995.85910</td>\n",
              "    </tr>\n",
              "    <tr>\n",
              "      <th>1</th>\n",
              "      <td>1617235200000</td>\n",
              "      <td>1919.37</td>\n",
              "      <td>1984.77</td>\n",
              "      <td>1885.02</td>\n",
              "      <td>1968.05</td>\n",
              "      <td>741585.07266</td>\n",
              "    </tr>\n",
              "    <tr>\n",
              "      <th>2</th>\n",
              "      <td>1617321600000</td>\n",
              "      <td>1968.05</td>\n",
              "      <td>2146.00</td>\n",
              "      <td>1948.48</td>\n",
              "      <td>2133.69</td>\n",
              "      <td>846197.93215</td>\n",
              "    </tr>\n",
              "    <tr>\n",
              "      <th>3</th>\n",
              "      <td>1617408000000</td>\n",
              "      <td>2133.69</td>\n",
              "      <td>2138.12</td>\n",
              "      <td>1996.30</td>\n",
              "      <td>2008.52</td>\n",
              "      <td>770176.32192</td>\n",
              "    </tr>\n",
              "    <tr>\n",
              "      <th>4</th>\n",
              "      <td>1617494400000</td>\n",
              "      <td>2008.59</td>\n",
              "      <td>2091.83</td>\n",
              "      <td>1975.24</td>\n",
              "      <td>2075.69</td>\n",
              "      <td>514345.76554</td>\n",
              "    </tr>\n",
              "    <tr>\n",
              "      <th>...</th>\n",
              "      <td>...</td>\n",
              "      <td>...</td>\n",
              "      <td>...</td>\n",
              "      <td>...</td>\n",
              "      <td>...</td>\n",
              "      <td>...</td>\n",
              "    </tr>\n",
              "    <tr>\n",
              "      <th>95</th>\n",
              "      <td>1625356800000</td>\n",
              "      <td>2226.99</td>\n",
              "      <td>2389.93</td>\n",
              "      <td>2189.58</td>\n",
              "      <td>2322.69</td>\n",
              "      <td>590656.25069</td>\n",
              "    </tr>\n",
              "    <tr>\n",
              "      <th>96</th>\n",
              "      <td>1625443200000</td>\n",
              "      <td>2322.69</td>\n",
              "      <td>2324.64</td>\n",
              "      <td>2157.32</td>\n",
              "      <td>2196.53</td>\n",
              "      <td>781806.31605</td>\n",
              "    </tr>\n",
              "    <tr>\n",
              "      <th>97</th>\n",
              "      <td>1625529600000</td>\n",
              "      <td>2196.85</td>\n",
              "      <td>2350.00</td>\n",
              "      <td>2193.00</td>\n",
              "      <td>2322.50</td>\n",
              "      <td>785330.17152</td>\n",
              "    </tr>\n",
              "    <tr>\n",
              "      <th>98</th>\n",
              "      <td>1625616000000</td>\n",
              "      <td>2322.51</td>\n",
              "      <td>2409.00</td>\n",
              "      <td>2291.90</td>\n",
              "      <td>2316.57</td>\n",
              "      <td>666501.35572</td>\n",
              "    </tr>\n",
              "    <tr>\n",
              "      <th>99</th>\n",
              "      <td>1625702400000</td>\n",
              "      <td>2316.25</td>\n",
              "      <td>2325.60</td>\n",
              "      <td>2124.21</td>\n",
              "      <td>2147.93</td>\n",
              "      <td>509354.00490</td>\n",
              "    </tr>\n",
              "  </tbody>\n",
              "</table>\n",
              "<p>100 rows × 6 columns</p>\n",
              "</div>"
            ],
            "text/plain": [
              "             Date     Open     High      Low    Close        Volume\n",
              "0   1617148800000  1840.41  1947.29  1768.15  1919.37  746995.85910\n",
              "1   1617235200000  1919.37  1984.77  1885.02  1968.05  741585.07266\n",
              "2   1617321600000  1968.05  2146.00  1948.48  2133.69  846197.93215\n",
              "3   1617408000000  2133.69  2138.12  1996.30  2008.52  770176.32192\n",
              "4   1617494400000  2008.59  2091.83  1975.24  2075.69  514345.76554\n",
              "..            ...      ...      ...      ...      ...           ...\n",
              "95  1625356800000  2226.99  2389.93  2189.58  2322.69  590656.25069\n",
              "96  1625443200000  2322.69  2324.64  2157.32  2196.53  781806.31605\n",
              "97  1625529600000  2196.85  2350.00  2193.00  2322.50  785330.17152\n",
              "98  1625616000000  2322.51  2409.00  2291.90  2316.57  666501.35572\n",
              "99  1625702400000  2316.25  2325.60  2124.21  2147.93  509354.00490\n",
              "\n",
              "[100 rows x 6 columns]"
            ]
          },
          "metadata": {
            "tags": []
          },
          "execution_count": 9
        }
      ]
    },
    {
      "cell_type": "code",
      "metadata": {
        "id": "tDBXNVPz7QLt"
      },
      "source": [
        "#Create a function to convert the unix timestamp to readable datetime format\n",
        "def real_date(x):\n",
        "  real_date = datetime.datetime.fromtimestamp(int(x)/1000)\n",
        "  return real_date\n"
      ],
      "execution_count": 10,
      "outputs": []
    },
    {
      "cell_type": "code",
      "metadata": {
        "colab": {
          "base_uri": "https://localhost:8080/",
          "height": 419
        },
        "id": "30Jjw2Oy8vNP",
        "outputId": "0795c412-9a28-417c-e4ad-0cd8d3aa30d8"
      },
      "source": [
        "#Call function on the date column to covert to datetime\n",
        "df['Date'] = df['Date'].apply(lambda x: real_date(x))\n",
        "df"
      ],
      "execution_count": 11,
      "outputs": [
        {
          "output_type": "execute_result",
          "data": {
            "text/html": [
              "<div>\n",
              "<style scoped>\n",
              "    .dataframe tbody tr th:only-of-type {\n",
              "        vertical-align: middle;\n",
              "    }\n",
              "\n",
              "    .dataframe tbody tr th {\n",
              "        vertical-align: top;\n",
              "    }\n",
              "\n",
              "    .dataframe thead th {\n",
              "        text-align: right;\n",
              "    }\n",
              "</style>\n",
              "<table border=\"1\" class=\"dataframe\">\n",
              "  <thead>\n",
              "    <tr style=\"text-align: right;\">\n",
              "      <th></th>\n",
              "      <th>Date</th>\n",
              "      <th>Open</th>\n",
              "      <th>High</th>\n",
              "      <th>Low</th>\n",
              "      <th>Close</th>\n",
              "      <th>Volume</th>\n",
              "    </tr>\n",
              "  </thead>\n",
              "  <tbody>\n",
              "    <tr>\n",
              "      <th>0</th>\n",
              "      <td>2021-03-31</td>\n",
              "      <td>1840.41</td>\n",
              "      <td>1947.29</td>\n",
              "      <td>1768.15</td>\n",
              "      <td>1919.37</td>\n",
              "      <td>746995.85910</td>\n",
              "    </tr>\n",
              "    <tr>\n",
              "      <th>1</th>\n",
              "      <td>2021-04-01</td>\n",
              "      <td>1919.37</td>\n",
              "      <td>1984.77</td>\n",
              "      <td>1885.02</td>\n",
              "      <td>1968.05</td>\n",
              "      <td>741585.07266</td>\n",
              "    </tr>\n",
              "    <tr>\n",
              "      <th>2</th>\n",
              "      <td>2021-04-02</td>\n",
              "      <td>1968.05</td>\n",
              "      <td>2146.00</td>\n",
              "      <td>1948.48</td>\n",
              "      <td>2133.69</td>\n",
              "      <td>846197.93215</td>\n",
              "    </tr>\n",
              "    <tr>\n",
              "      <th>3</th>\n",
              "      <td>2021-04-03</td>\n",
              "      <td>2133.69</td>\n",
              "      <td>2138.12</td>\n",
              "      <td>1996.30</td>\n",
              "      <td>2008.52</td>\n",
              "      <td>770176.32192</td>\n",
              "    </tr>\n",
              "    <tr>\n",
              "      <th>4</th>\n",
              "      <td>2021-04-04</td>\n",
              "      <td>2008.59</td>\n",
              "      <td>2091.83</td>\n",
              "      <td>1975.24</td>\n",
              "      <td>2075.69</td>\n",
              "      <td>514345.76554</td>\n",
              "    </tr>\n",
              "    <tr>\n",
              "      <th>...</th>\n",
              "      <td>...</td>\n",
              "      <td>...</td>\n",
              "      <td>...</td>\n",
              "      <td>...</td>\n",
              "      <td>...</td>\n",
              "      <td>...</td>\n",
              "    </tr>\n",
              "    <tr>\n",
              "      <th>95</th>\n",
              "      <td>2021-07-04</td>\n",
              "      <td>2226.99</td>\n",
              "      <td>2389.93</td>\n",
              "      <td>2189.58</td>\n",
              "      <td>2322.69</td>\n",
              "      <td>590656.25069</td>\n",
              "    </tr>\n",
              "    <tr>\n",
              "      <th>96</th>\n",
              "      <td>2021-07-05</td>\n",
              "      <td>2322.69</td>\n",
              "      <td>2324.64</td>\n",
              "      <td>2157.32</td>\n",
              "      <td>2196.53</td>\n",
              "      <td>781806.31605</td>\n",
              "    </tr>\n",
              "    <tr>\n",
              "      <th>97</th>\n",
              "      <td>2021-07-06</td>\n",
              "      <td>2196.85</td>\n",
              "      <td>2350.00</td>\n",
              "      <td>2193.00</td>\n",
              "      <td>2322.50</td>\n",
              "      <td>785330.17152</td>\n",
              "    </tr>\n",
              "    <tr>\n",
              "      <th>98</th>\n",
              "      <td>2021-07-07</td>\n",
              "      <td>2322.51</td>\n",
              "      <td>2409.00</td>\n",
              "      <td>2291.90</td>\n",
              "      <td>2316.57</td>\n",
              "      <td>666501.35572</td>\n",
              "    </tr>\n",
              "    <tr>\n",
              "      <th>99</th>\n",
              "      <td>2021-07-08</td>\n",
              "      <td>2316.25</td>\n",
              "      <td>2325.60</td>\n",
              "      <td>2124.21</td>\n",
              "      <td>2147.93</td>\n",
              "      <td>509354.00490</td>\n",
              "    </tr>\n",
              "  </tbody>\n",
              "</table>\n",
              "<p>100 rows × 6 columns</p>\n",
              "</div>"
            ],
            "text/plain": [
              "         Date     Open     High      Low    Close        Volume\n",
              "0  2021-03-31  1840.41  1947.29  1768.15  1919.37  746995.85910\n",
              "1  2021-04-01  1919.37  1984.77  1885.02  1968.05  741585.07266\n",
              "2  2021-04-02  1968.05  2146.00  1948.48  2133.69  846197.93215\n",
              "3  2021-04-03  2133.69  2138.12  1996.30  2008.52  770176.32192\n",
              "4  2021-04-04  2008.59  2091.83  1975.24  2075.69  514345.76554\n",
              "..        ...      ...      ...      ...      ...           ...\n",
              "95 2021-07-04  2226.99  2389.93  2189.58  2322.69  590656.25069\n",
              "96 2021-07-05  2322.69  2324.64  2157.32  2196.53  781806.31605\n",
              "97 2021-07-06  2196.85  2350.00  2193.00  2322.50  785330.17152\n",
              "98 2021-07-07  2322.51  2409.00  2291.90  2316.57  666501.35572\n",
              "99 2021-07-08  2316.25  2325.60  2124.21  2147.93  509354.00490\n",
              "\n",
              "[100 rows x 6 columns]"
            ]
          },
          "metadata": {
            "tags": []
          },
          "execution_count": 11
        }
      ]
    },
    {
      "cell_type": "code",
      "metadata": {
        "id": "GAKYwnJ6DI5n"
      },
      "source": [
        "#Save data to csv file\n",
        "from google.colab import files\n",
        "symbol2 = 'ETHUSDT'\n",
        "if os.path.isfile('/content/DATASET/{}.csv'.format(symbol2)):\n",
        "  with open('/content/DATASET/{}.csv'.format(symbol2), 'w') as f:\n",
        "    f.write(df.to_csv())\n",
        "else:\n",
        "  df.to_csv('/content/DATASET/{}.csv'.format(symbol2))\n",
        "files.download('/content/DATASET/{}.csv'.format(symbol2))"
      ],
      "execution_count": null,
      "outputs": []
    },
    {
      "cell_type": "code",
      "metadata": {
        "id": "k2SunaKp9wxf"
      },
      "source": [
        "#Combines all retrieval steps and make as a function\n",
        "def get_historical_data(symbol):\n",
        "  candles = binance.fetch_ohlcv(symbol, limit=100, timeframe='1d')\n",
        "  df = pd.DataFrame(candles)\n",
        "  df.columns = ['Date', 'Open', 'High', 'Low', 'Close', 'Volume']\n",
        "  df['Date'] = df['Date'].apply(lambda x: real_date(x))\n",
        "\n",
        "  return df\n"
      ],
      "execution_count": 30,
      "outputs": []
    },
    {
      "cell_type": "code",
      "metadata": {
        "id": "pfSOQZ_GF13a"
      },
      "source": [
        "#Make a list of trading pairs and create a function to save them to a file\n",
        "pairs = ['ONG/BNB',\n",
        "'ONG/BTC',\n",
        " 'ONG/USDT',\n",
        " 'ONT/BNB',\n",
        " 'ONT/BTC',\n",
        " 'ONT/BUSD',\n",
        " 'ONT/ETH',\n",
        " 'ONT/PAX',\n",
        " 'ONT/TRY',\n",
        " 'ONT/USDC',\n",
        " 'ONT/USDT',]\n",
        "def get_all_trading_pairs(pairs):\n",
        "  for pair in pairs:\n",
        "    df = get_historical_data(pair)\n",
        "    pair = pair.split('/')\n",
        "    pair = ''.join(pair)\n",
        "    if os.path.isfile('/content/DATASET/{}.csv'.format(pair)):\n",
        "      with open('/content/DATASET/{}.csv'.format(pair), 'w') as f:\n",
        "        f.write(df.to_csv())\n",
        "    else:\n",
        "      df.to_csv('/content/DATASET/{}.csv'.format(pair))"
      ],
      "execution_count": 33,
      "outputs": []
    },
    {
      "cell_type": "code",
      "metadata": {
        "id": "XvpyQCcOELDt"
      },
      "source": [
        "get_all_trading_pairs(pairs)"
      ],
      "execution_count": 34,
      "outputs": []
    }
  ]
}